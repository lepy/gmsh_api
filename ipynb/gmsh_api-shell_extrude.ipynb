{
 "cells": [
  {
   "cell_type": "code",
   "execution_count": 7,
   "metadata": {
    "pycharm": {
     "is_executing": false
    }
   },
   "outputs": [
    {
     "data": {
      "application/javascript": [
       "IPython.notebook.set_autosave_interval(0)"
      ]
     },
     "metadata": {},
     "output_type": "display_data"
    },
    {
     "name": "stdout",
     "output_type": "stream",
     "text": [
      "Autosave disabled\n",
      "gmsh_api package: v0.1.4\n",
      "GMSH_API_VERSION: v4.2\n"
     ]
    }
   ],
   "source": [
    "%reload_ext autoreload\n",
    "%autoreload 2\n",
    "%autosave 0\n",
    "\n",
    "import logging\n",
    "logging.basicConfig(format='%(asctime)s %(levelname)s:%(message)s', level=logging.INFO, datefmt='%I:%M:%S')\n",
    "\n",
    "import os\n",
    "import sys\n",
    "import numpy as np\n",
    "import pandas as pd\n",
    "import gmsh_api\n",
    "import gmsh_api.gmsh as gmsh\n",
    "print(\"gmsh_api package: v{}\".format(gmsh_api.__version__))\n",
    "print(\"GMSH_API_VERSION: v{}\".format(gmsh.GMSH_API_VERSION))"
   ]
  },
  {
   "cell_type": "code",
   "execution_count": 8,
   "metadata": {
    "pycharm": {
     "is_executing": false
    }
   },
   "outputs": [],
   "source": [
    "gmsh.initialize()\n",
    "\n",
    "gmsh.option.setNumber(\"General.Terminal\", 1)\n",
    "gmsh.option.setNumber(\"Mesh.Algorithm\", 5) # delquad\n",
    "gmsh.option.setNumber(\"Mesh.RecombineAll\", 1)\n",
    "\n",
    "gmsh.model.add(\"square\")\n",
    "gmsh.model.geo.addPoint(0, 0, 0, 0.6, 1)\n",
    "gmsh.model.geo.addPoint(1, 0, 0, 0.6, 2)\n",
    "gmsh.model.geo.addPoint(1, 1, 0, 0.5, 3)\n",
    "gmsh.model.geo.addPoint(0, 1, 0, 0.4, 4)\n",
    "gmsh.model.geo.addLine(1, 2, 1)\n",
    "gmsh.model.geo.addLine(2, 3, 2)\n",
    "gmsh.model.geo.addLine(3, 4, 3)\n",
    "# try automatic assignement of tag\n",
    "line4 = gmsh.model.geo.addLine(4, 1)\n",
    "gmsh.model.geo.addCurveLoop([1, 2, 3, line4], 1)\n",
    "gmsh.model.geo.addPlaneSurface([1], 6)\n",
    "gmsh.model.geo.synchronize()\n",
    "gmsh.model.mesh.generate(2)\n",
    "gmsh.write(\"square.unv\")\n"
   ]
  },
  {
   "cell_type": "code",
   "execution_count": 9,
   "metadata": {
    "pycharm": {
     "is_executing": false
    }
   },
   "outputs": [
    {
     "data": {
      "text/plain": [
       "(Mesh nodes:10 elements:17)"
      ]
     },
     "execution_count": 9,
     "metadata": {},
     "output_type": "execute_result"
    }
   ],
   "source": [
    "mesh = gmsh_api.Mesh.from_gmsh(gmsh)\n",
    "mesh\n"
   ]
  },
  {
   "cell_type": "code",
   "execution_count": 4,
   "metadata": {
    "pycharm": {}
   },
   "outputs": [
    {
     "data": {
      "text/html": [
       "<div>\n",
       "<style scoped>\n",
       "    .dataframe tbody tr th:only-of-type {\n",
       "        vertical-align: middle;\n",
       "    }\n",
       "\n",
       "    .dataframe tbody tr th {\n",
       "        vertical-align: top;\n",
       "    }\n",
       "\n",
       "    .dataframe thead th {\n",
       "        text-align: right;\n",
       "    }\n",
       "</style>\n",
       "<table border=\"1\" class=\"dataframe\">\n",
       "  <thead>\n",
       "    <tr style=\"text-align: right;\">\n",
       "      <th></th>\n",
       "      <th>nid</th>\n",
       "      <th>x</th>\n",
       "      <th>y</th>\n",
       "      <th>z</th>\n",
       "    </tr>\n",
       "    <tr>\n",
       "      <th>nid</th>\n",
       "      <th></th>\n",
       "      <th></th>\n",
       "      <th></th>\n",
       "      <th></th>\n",
       "    </tr>\n",
       "  </thead>\n",
       "  <tbody>\n",
       "    <tr>\n",
       "      <th>1</th>\n",
       "      <td>1</td>\n",
       "      <td>0.000000</td>\n",
       "      <td>0.000000</td>\n",
       "      <td>0.0</td>\n",
       "    </tr>\n",
       "    <tr>\n",
       "      <th>2</th>\n",
       "      <td>2</td>\n",
       "      <td>1.000000</td>\n",
       "      <td>0.000000</td>\n",
       "      <td>0.0</td>\n",
       "    </tr>\n",
       "    <tr>\n",
       "      <th>3</th>\n",
       "      <td>3</td>\n",
       "      <td>1.000000</td>\n",
       "      <td>1.000000</td>\n",
       "      <td>0.0</td>\n",
       "    </tr>\n",
       "    <tr>\n",
       "      <th>4</th>\n",
       "      <td>4</td>\n",
       "      <td>0.000000</td>\n",
       "      <td>1.000000</td>\n",
       "      <td>0.0</td>\n",
       "    </tr>\n",
       "    <tr>\n",
       "      <th>5</th>\n",
       "      <td>5</td>\n",
       "      <td>0.500000</td>\n",
       "      <td>0.000000</td>\n",
       "      <td>0.0</td>\n",
       "    </tr>\n",
       "    <tr>\n",
       "      <th>6</th>\n",
       "      <td>6</td>\n",
       "      <td>1.000000</td>\n",
       "      <td>0.522774</td>\n",
       "      <td>0.0</td>\n",
       "    </tr>\n",
       "    <tr>\n",
       "      <th>7</th>\n",
       "      <td>7</td>\n",
       "      <td>0.728708</td>\n",
       "      <td>1.000000</td>\n",
       "      <td>0.0</td>\n",
       "    </tr>\n",
       "    <tr>\n",
       "      <th>8</th>\n",
       "      <td>8</td>\n",
       "      <td>0.472136</td>\n",
       "      <td>1.000000</td>\n",
       "      <td>0.0</td>\n",
       "    </tr>\n",
       "    <tr>\n",
       "      <th>9</th>\n",
       "      <td>9</td>\n",
       "      <td>0.229485</td>\n",
       "      <td>1.000000</td>\n",
       "      <td>0.0</td>\n",
       "    </tr>\n",
       "    <tr>\n",
       "      <th>10</th>\n",
       "      <td>10</td>\n",
       "      <td>0.000000</td>\n",
       "      <td>0.786636</td>\n",
       "      <td>0.0</td>\n",
       "    </tr>\n",
       "    <tr>\n",
       "      <th>11</th>\n",
       "      <td>11</td>\n",
       "      <td>0.000000</td>\n",
       "      <td>0.550510</td>\n",
       "      <td>0.0</td>\n",
       "    </tr>\n",
       "    <tr>\n",
       "      <th>12</th>\n",
       "      <td>12</td>\n",
       "      <td>0.000000</td>\n",
       "      <td>0.289194</td>\n",
       "      <td>0.0</td>\n",
       "    </tr>\n",
       "    <tr>\n",
       "      <th>13</th>\n",
       "      <td>13</td>\n",
       "      <td>0.267268</td>\n",
       "      <td>0.304987</td>\n",
       "      <td>0.0</td>\n",
       "    </tr>\n",
       "    <tr>\n",
       "      <th>14</th>\n",
       "      <td>14</td>\n",
       "      <td>0.637319</td>\n",
       "      <td>0.370788</td>\n",
       "      <td>0.0</td>\n",
       "    </tr>\n",
       "    <tr>\n",
       "      <th>15</th>\n",
       "      <td>15</td>\n",
       "      <td>0.703727</td>\n",
       "      <td>0.740444</td>\n",
       "      <td>0.0</td>\n",
       "    </tr>\n",
       "    <tr>\n",
       "      <th>16</th>\n",
       "      <td>16</td>\n",
       "      <td>0.387068</td>\n",
       "      <td>0.621410</td>\n",
       "      <td>0.0</td>\n",
       "    </tr>\n",
       "    <tr>\n",
       "      <th>17</th>\n",
       "      <td>17</td>\n",
       "      <td>0.189356</td>\n",
       "      <td>0.818467</td>\n",
       "      <td>0.0</td>\n",
       "    </tr>\n",
       "  </tbody>\n",
       "</table>\n",
       "</div>"
      ],
      "text/plain": [
       "     nid         x         y    z\n",
       "nid                              \n",
       "1      1  0.000000  0.000000  0.0\n",
       "2      2  1.000000  0.000000  0.0\n",
       "3      3  1.000000  1.000000  0.0\n",
       "4      4  0.000000  1.000000  0.0\n",
       "5      5  0.500000  0.000000  0.0\n",
       "6      6  1.000000  0.522774  0.0\n",
       "7      7  0.728708  1.000000  0.0\n",
       "8      8  0.472136  1.000000  0.0\n",
       "9      9  0.229485  1.000000  0.0\n",
       "10    10  0.000000  0.786636  0.0\n",
       "11    11  0.000000  0.550510  0.0\n",
       "12    12  0.000000  0.289194  0.0\n",
       "13    13  0.267268  0.304987  0.0\n",
       "14    14  0.637319  0.370788  0.0\n",
       "15    15  0.703727  0.740444  0.0\n",
       "16    16  0.387068  0.621410  0.0\n",
       "17    17  0.189356  0.818467  0.0"
      ]
     },
     "execution_count": 4,
     "metadata": {},
     "output_type": "execute_result"
    }
   ],
   "source": [
    "mesh.nodes"
   ]
  },
  {
   "cell_type": "code",
   "execution_count": 5,
   "metadata": {
    "pycharm": {}
   },
   "outputs": [
    {
     "data": {
      "text/html": [
       "<div>\n",
       "<style scoped>\n",
       "    .dataframe tbody tr th:only-of-type {\n",
       "        vertical-align: middle;\n",
       "    }\n",
       "\n",
       "    .dataframe tbody tr th {\n",
       "        vertical-align: top;\n",
       "    }\n",
       "\n",
       "    .dataframe thead th {\n",
       "        text-align: right;\n",
       "    }\n",
       "</style>\n",
       "<table border=\"1\" class=\"dataframe\">\n",
       "  <thead>\n",
       "    <tr style=\"text-align: right;\">\n",
       "      <th></th>\n",
       "      <th>pid</th>\n",
       "      <th>elid</th>\n",
       "      <th>type</th>\n",
       "      <th>n_nodes</th>\n",
       "      <th>nodes</th>\n",
       "      <th>nidxs</th>\n",
       "    </tr>\n",
       "  </thead>\n",
       "  <tbody>\n",
       "    <tr>\n",
       "      <th>0</th>\n",
       "      <td>1</td>\n",
       "      <td>17</td>\n",
       "      <td>shell4</td>\n",
       "      <td>4</td>\n",
       "      <td>[9, 17, 16, 8]</td>\n",
       "      <td>[9, 17, 16, 8]</td>\n",
       "    </tr>\n",
       "    <tr>\n",
       "      <th>1</th>\n",
       "      <td>1</td>\n",
       "      <td>18</td>\n",
       "      <td>shell4</td>\n",
       "      <td>4</td>\n",
       "      <td>[16, 17, 10, 11]</td>\n",
       "      <td>[16, 17, 10, 11]</td>\n",
       "    </tr>\n",
       "    <tr>\n",
       "      <th>2</th>\n",
       "      <td>1</td>\n",
       "      <td>19</td>\n",
       "      <td>shell4</td>\n",
       "      <td>4</td>\n",
       "      <td>[10, 17, 9, 4]</td>\n",
       "      <td>[10, 17, 9, 4]</td>\n",
       "    </tr>\n",
       "    <tr>\n",
       "      <th>3</th>\n",
       "      <td>1</td>\n",
       "      <td>20</td>\n",
       "      <td>shell4</td>\n",
       "      <td>4</td>\n",
       "      <td>[5, 14, 16, 13]</td>\n",
       "      <td>[5, 14, 16, 13]</td>\n",
       "    </tr>\n",
       "    <tr>\n",
       "      <th>4</th>\n",
       "      <td>1</td>\n",
       "      <td>21</td>\n",
       "      <td>shell4</td>\n",
       "      <td>4</td>\n",
       "      <td>[6, 15, 16, 14]</td>\n",
       "      <td>[6, 15, 16, 14]</td>\n",
       "    </tr>\n",
       "    <tr>\n",
       "      <th>5</th>\n",
       "      <td>1</td>\n",
       "      <td>22</td>\n",
       "      <td>shell4</td>\n",
       "      <td>4</td>\n",
       "      <td>[6, 14, 5, 2]</td>\n",
       "      <td>[6, 14, 5, 2]</td>\n",
       "    </tr>\n",
       "    <tr>\n",
       "      <th>6</th>\n",
       "      <td>1</td>\n",
       "      <td>23</td>\n",
       "      <td>shell4</td>\n",
       "      <td>4</td>\n",
       "      <td>[16, 15, 7, 8]</td>\n",
       "      <td>[16, 15, 7, 8]</td>\n",
       "    </tr>\n",
       "    <tr>\n",
       "      <th>7</th>\n",
       "      <td>1</td>\n",
       "      <td>24</td>\n",
       "      <td>shell4</td>\n",
       "      <td>4</td>\n",
       "      <td>[16, 11, 12, 13]</td>\n",
       "      <td>[16, 11, 12, 13]</td>\n",
       "    </tr>\n",
       "    <tr>\n",
       "      <th>8</th>\n",
       "      <td>1</td>\n",
       "      <td>25</td>\n",
       "      <td>shell4</td>\n",
       "      <td>4</td>\n",
       "      <td>[5, 13, 12, 1]</td>\n",
       "      <td>[5, 13, 12, 1]</td>\n",
       "    </tr>\n",
       "    <tr>\n",
       "      <th>9</th>\n",
       "      <td>1</td>\n",
       "      <td>26</td>\n",
       "      <td>shell4</td>\n",
       "      <td>4</td>\n",
       "      <td>[6, 3, 7, 15]</td>\n",
       "      <td>[6, 3, 7, 15]</td>\n",
       "    </tr>\n",
       "  </tbody>\n",
       "</table>\n",
       "</div>"
      ],
      "text/plain": [
       "  pid elid    type n_nodes             nodes             nidxs\n",
       "0   1   17  shell4       4    [9, 17, 16, 8]    [9, 17, 16, 8]\n",
       "1   1   18  shell4       4  [16, 17, 10, 11]  [16, 17, 10, 11]\n",
       "2   1   19  shell4       4    [10, 17, 9, 4]    [10, 17, 9, 4]\n",
       "3   1   20  shell4       4   [5, 14, 16, 13]   [5, 14, 16, 13]\n",
       "4   1   21  shell4       4   [6, 15, 16, 14]   [6, 15, 16, 14]\n",
       "5   1   22  shell4       4     [6, 14, 5, 2]     [6, 14, 5, 2]\n",
       "6   1   23  shell4       4    [16, 15, 7, 8]    [16, 15, 7, 8]\n",
       "7   1   24  shell4       4  [16, 11, 12, 13]  [16, 11, 12, 13]\n",
       "8   1   25  shell4       4    [5, 13, 12, 1]    [5, 13, 12, 1]\n",
       "9   1   26  shell4       4     [6, 3, 7, 15]     [6, 3, 7, 15]"
      ]
     },
     "execution_count": 5,
     "metadata": {},
     "output_type": "execute_result"
    }
   ],
   "source": [
    "mesh.elements"
   ]
  },
  {
   "cell_type": "code",
   "execution_count": 10,
   "metadata": {
    "pycharm": {
     "is_executing": false
    }
   },
   "outputs": [],
   "source": [
    "import tabulate"
   ]
  },
  {
   "cell_type": "code",
   "execution_count": 7,
   "metadata": {
    "pycharm": {}
   },
   "outputs": [
    {
     "name": "stdout",
     "output_type": "stream",
     "text": [
      "      nid         x         y    z\n",
      " 1      1  0         0           0\n",
      " 2      2  1         0           0\n",
      " 3      3  1         1           0\n",
      " 4      4  0         1           0\n",
      " 5      5  0.5       0           0\n",
      " 6      6  1         0.522774    0\n",
      " 7      7  0.728708  1           0\n",
      " 8      8  0.472136  1           0\n",
      " 9      9  0.229485  1           0\n",
      "10     10  0         0.786636    0\n",
      "11     11  0         0.55051     0\n",
      "12     12  0         0.289194    0\n",
      "13     13  0.267268  0.304987    0\n",
      "14     14  0.637319  0.370788    0\n",
      "15     15  0.703727  0.740444    0\n",
      "16     16  0.387068  0.62141     0\n",
      "17     17  0.189356  0.818467    0\n"
     ]
    }
   ],
   "source": [
    "print(tabulate.tabulate(mesh.nodes,tablefmt=\"plain\", headers=mesh.nodes.columns))"
   ]
  },
  {
   "cell_type": "code",
   "execution_count": 8,
   "metadata": {
    "pycharm": {}
   },
   "outputs": [
    {
     "name": "stdout",
     "output_type": "stream",
     "text": [
      "      pid    elid  type      n_nodes  nodes                 nidxs\n",
      " 0      1      17  shell4          4  [9L, 17L, 16L, 8L]    [9L, 17L, 16L, 8L]\n",
      " 1      1      18  shell4          4  [16L, 17L, 10L, 11L]  [16L, 17L, 10L, 11L]\n",
      " 2      1      19  shell4          4  [10L, 17L, 9L, 4L]    [10L, 17L, 9L, 4L]\n",
      " 3      1      20  shell4          4  [5L, 14L, 16L, 13L]   [5L, 14L, 16L, 13L]\n",
      " 4      1      21  shell4          4  [6L, 15L, 16L, 14L]   [6L, 15L, 16L, 14L]\n",
      " 5      1      22  shell4          4  [6L, 14L, 5L, 2L]     [6L, 14L, 5L, 2L]\n",
      " 6      1      23  shell4          4  [16L, 15L, 7L, 8L]    [16L, 15L, 7L, 8L]\n",
      " 7      1      24  shell4          4  [16L, 11L, 12L, 13L]  [16L, 11L, 12L, 13L]\n",
      " 8      1      25  shell4          4  [5L, 13L, 12L, 1L]    [5L, 13L, 12L, 1L]\n",
      " 9      1      26  shell4          4  [6L, 3L, 7L, 15L]     [6L, 3L, 7L, 15L]\n"
     ]
    }
   ],
   "source": [
    "print(tabulate.tabulate(mesh.elements,tablefmt=\"plain\", headers=mesh.elements.columns))"
   ]
  },
  {
   "cell_type": "code",
   "execution_count": 12,
   "metadata": {
    "pycharm": {}
   },
   "outputs": [
    {
     "ename": "TypeError",
     "evalue": "expected c_int_Array_2 instance, got int",
     "output_type": "error",
     "traceback": [
      "\u001b[0;31m---------------------------------------------------------------------------\u001b[0m",
      "\u001b[0;31mTypeError\u001b[0m                                 Traceback (most recent call last)",
      "\u001b[0;32m<ipython-input-12-cabdeb18cf2f>\u001b[0m in \u001b[0;36m<module>\u001b[0;34m()\u001b[0m\n\u001b[0;32m----> 1\u001b[0;31m \u001b[0mgmsh\u001b[0m\u001b[0;34m.\u001b[0m\u001b[0mmodel\u001b[0m\u001b[0;34m.\u001b[0m\u001b[0mgeo\u001b[0m\u001b[0;34m.\u001b[0m\u001b[0mextrude\u001b[0m\u001b[0;34m(\u001b[0m\u001b[0mdimTags\u001b[0m\u001b[0;34m=\u001b[0m\u001b[0;34m(\u001b[0m\u001b[0;36m1\u001b[0m\u001b[0;34m,\u001b[0m\u001b[0;36m2\u001b[0m\u001b[0;34m,\u001b[0m\u001b[0;34m)\u001b[0m\u001b[0;34m,\u001b[0m \u001b[0mdx\u001b[0m\u001b[0;34m=\u001b[0m\u001b[0;36m0\u001b[0m\u001b[0;34m,\u001b[0m \u001b[0mdy\u001b[0m\u001b[0;34m=\u001b[0m\u001b[0;36m0\u001b[0m\u001b[0;34m,\u001b[0m \u001b[0mdz\u001b[0m\u001b[0;34m=\u001b[0m\u001b[0;36m1\u001b[0m\u001b[0;34m,\u001b[0m \u001b[0mnumElements\u001b[0m\u001b[0;34m=\u001b[0m\u001b[0;34m[\u001b[0m\u001b[0;34m]\u001b[0m\u001b[0;34m,\u001b[0m \u001b[0mheights\u001b[0m\u001b[0;34m=\u001b[0m\u001b[0;34m[\u001b[0m\u001b[0;36m2\u001b[0m\u001b[0;34m]\u001b[0m\u001b[0;34m,\u001b[0m \u001b[0mrecombine\u001b[0m\u001b[0;34m=\u001b[0m\u001b[0mFalse\u001b[0m\u001b[0;34m)\u001b[0m\u001b[0;34m\u001b[0m\u001b[0m\n\u001b[0m",
      "\u001b[0;32m/home/ingolf.lepenies/projects/gmsh_api/gmsh_api/gmsh.pyc\u001b[0m in \u001b[0;36mextrude\u001b[0;34m(dimTags, dx, dy, dz, numElements, heights, recombine)\u001b[0m\n\u001b[1;32m   2729\u001b[0m             \u001b[0mReturn\u001b[0m \u001b[0;34m`\u001b[0m\u001b[0moutDimTags\u001b[0m\u001b[0;31m'\u001b[0m\u001b[0;34m.\u001b[0m\u001b[0;34m\u001b[0m\u001b[0m\n\u001b[1;32m   2730\u001b[0m             \"\"\"\n\u001b[0;32m-> 2731\u001b[0;31m             \u001b[0mapi_dimTags_\u001b[0m\u001b[0;34m,\u001b[0m \u001b[0mapi_dimTags_n_\u001b[0m \u001b[0;34m=\u001b[0m \u001b[0m_ivectorpair\u001b[0m\u001b[0;34m(\u001b[0m\u001b[0mdimTags\u001b[0m\u001b[0;34m)\u001b[0m\u001b[0;34m\u001b[0m\u001b[0m\n\u001b[0m\u001b[1;32m   2732\u001b[0m             \u001b[0;32mprint\u001b[0m\u001b[0;34m(\u001b[0m\u001b[0mc_int\u001b[0m\u001b[0;34m)\u001b[0m\u001b[0;34m\u001b[0m\u001b[0m\n\u001b[1;32m   2733\u001b[0m             \u001b[0;32mprint\u001b[0m\u001b[0;34m(\u001b[0m\u001b[0mc_int\u001b[0m\u001b[0;34m)\u001b[0m\u001b[0;34m\u001b[0m\u001b[0m\n",
      "\u001b[0;32m/home/ingolf.lepenies/projects/gmsh_api/gmsh_api/gmsh.pyc\u001b[0m in \u001b[0;36m_ivectorpair\u001b[0;34m(o)\u001b[0m\n\u001b[1;32m    144\u001b[0m         \u001b[0;32mreturn\u001b[0m  \u001b[0mct\u001b[0m\u001b[0;34m,\u001b[0m \u001b[0mc_size_t\u001b[0m\u001b[0;34m(\u001b[0m\u001b[0mlen\u001b[0m\u001b[0;34m(\u001b[0m\u001b[0mo\u001b[0m\u001b[0;34m)\u001b[0m \u001b[0;34m*\u001b[0m \u001b[0;36m2\u001b[0m\u001b[0;34m)\u001b[0m\u001b[0;34m\u001b[0m\u001b[0m\n\u001b[1;32m    145\u001b[0m     \u001b[0;32melse\u001b[0m\u001b[0;34m:\u001b[0m\u001b[0;34m\u001b[0m\u001b[0m\n\u001b[0;32m--> 146\u001b[0;31m         \u001b[0;32mreturn\u001b[0m \u001b[0;34m(\u001b[0m\u001b[0;34m(\u001b[0m\u001b[0mc_int\u001b[0m \u001b[0;34m*\u001b[0m \u001b[0;36m2\u001b[0m\u001b[0;34m)\u001b[0m \u001b[0;34m*\u001b[0m \u001b[0mlen\u001b[0m\u001b[0;34m(\u001b[0m\u001b[0mo\u001b[0m\u001b[0;34m)\u001b[0m\u001b[0;34m)\u001b[0m\u001b[0;34m(\u001b[0m\u001b[0;34m*\u001b[0m\u001b[0mo\u001b[0m\u001b[0;34m)\u001b[0m\u001b[0;34m,\u001b[0m \u001b[0mc_size_t\u001b[0m\u001b[0;34m(\u001b[0m\u001b[0mlen\u001b[0m\u001b[0;34m(\u001b[0m\u001b[0mo\u001b[0m\u001b[0;34m)\u001b[0m \u001b[0;34m*\u001b[0m \u001b[0;36m2\u001b[0m\u001b[0;34m)\u001b[0m\u001b[0;34m\u001b[0m\u001b[0m\n\u001b[0m\u001b[1;32m    147\u001b[0m \u001b[0;34m\u001b[0m\u001b[0m\n\u001b[1;32m    148\u001b[0m \u001b[0;32mdef\u001b[0m \u001b[0m_ivectorstring\u001b[0m\u001b[0;34m(\u001b[0m\u001b[0mo\u001b[0m\u001b[0;34m)\u001b[0m\u001b[0;34m:\u001b[0m\u001b[0;34m\u001b[0m\u001b[0m\n",
      "\u001b[0;31mTypeError\u001b[0m: expected c_int_Array_2 instance, got int"
     ]
    }
   ],
   "source": [
    "gmsh.model.geo.extrude(dimTags=(1,2,), dx=0, dy=0, dz=1, numElements=[], heights=[2], recombine=False)"
   ]
  },
  {
   "cell_type": "code",
   "execution_count": 11,
   "metadata": {
    "pycharm": {}
   },
   "outputs": [
    {
     "data": {
      "text/plain": [
       "'Tr\\xc3\\xa4ger 4 rechts'"
      ]
     },
     "execution_count": 11,
     "metadata": {},
     "output_type": "execute_result"
    }
   ],
   "source": [
    "s = \"Träger 4 rechts\"\n",
    "s"
   ]
  },
  {
   "cell_type": "code",
   "execution_count": 15,
   "metadata": {},
   "outputs": [
    {
     "data": {
      "text/plain": [
       "'<Tr\\xc3\\xa4ger 4 rechts>'"
      ]
     },
     "execution_count": 15,
     "metadata": {},
     "output_type": "execute_result"
    }
   ],
   "source": [
    "u\"<%(a)s>\".encode(\"utf-8\") % {\"a\":s}"
   ]
  },
  {
   "cell_type": "code",
   "execution_count": 29,
   "metadata": {},
   "outputs": [],
   "source": [
    "channeltemplate = \"\"\"Test object number          :%(TEST_OBJECT_NUMBER)s\n",
    "Name of the channel         :%(NAME_OF_THE_CHANNEL)s\n",
    "Laboratory channel code     :%(LABORATORY_CHANNEL_CODE)s\n",
    "Customer channel code       :%(CUSTOMER_CHANNEL_CODE)s\n",
    "Channel code                :%(CHANNEL_CODE)s\n",
    "Comments                    :%(COMMENTS)s\n",
    "Location                    :%(LOCATION)s\n",
    "Direction                   :%(DIRECTION)s\n",
    "Dimension                   :%(DIMENSION)s\n",
    "Channel frequency class     :%(CHANNEL_FREQUENCY_CLASS)s\n",
    "Unit                        :%(UNIT)s\n",
    "Reference system            :%(REFERENCE_SYSTEM)s\n",
    "Transducer type             :%(TRANSDUCER_TYPE)s\n",
    "Pre-filter type             :%(PRE_FILTER_TYPE)s\n",
    "Cut off frequency           :%(CUT_OFF_FREQUENCY)s\n",
    "Channel amplitude class     :%(CHANNEL_AMPLITUDE_CLASS)s\n",
    "Sampling interval           :%(SAMPLING_INTERVAL)s\n",
    "Bit resolution              :%(BIT_RESOLUTION)s\n",
    "Time of first sample        :%(TIME_OF_FIRST_SAMPLE)s\n",
    "Number of samples           :%(NUMBER_OF_SAMPLES)s\n",
    "Reference channel           :%(REFERENCE_CHANNEL)s\n",
    "Reference channel name      :%(REFERENCE_CHANNEL_NAME)s\n",
    "Data source                 :%(DATA_SOURCE)s\n",
    "Data status                 :%(DATA_STATUS)s\n",
    "First global maximum value  :%(FIRST_GLOBAL_MAXIMUM_VALUE)s\n",
    "Time of maximum value       :%(TIME_OF_MAXIMUM_VALUE)s\n",
    "First global minimum value  :%(FIRST_GLOBAL_MINIMUM_VALUE)s\n",
    "Time of minimum value       :%(TIME_OF_MINIMUM_VALUE)s\n",
    "Start offset interval       :%(START_OFFSET_INTERVAL)s\n",
    "End offset interval         :%(END_OFFSET_INTERVAL)s\n",
    "\"\"\"\n",
    "para = {'TEST_OBJECT_NUMBER': 1, 'REFERENCE_CHANNEL': 'NOVALUE', 'TIME_OF_FIRST_SAMPLE': '0', 'BIT_RESOLUTION': 'NOVALUE', 'TIME_OF_MAXIMUM_VALUE': 'NOVALUE', 'END_OFFSET_INTERVAL': 'NOVALUE', 'DIRECTION': u'Longitudinal', 'FIRST_GLOBAL_MINIMUM_VALUE': 'NOVALUE', 'FIRST_GLOBAL_MAXIMUM_VALUE': 'NOVALUE', 'CHANNEL_FREQUENCY_CLASS': u'Unfiltered', 'REFERENCE_SYSTEM': 'NOVALUE', 'TIME_OF_MINIMUM_VALUE': 'NOVALUE', 'LOCATION': u'Head', 'LABORATORY_CHANNEL_CODE': '11HEAD0000E2ACX0', 'NAME_OF_THE_CHANNEL': 'x-acceleration $head', 'SAMPLING_INTERVAL': '0.0001', 'CHANNEL_AMPLITUDE_CLASS': 'NOVALUE', 'REFERENCE_CHANNEL_NAME': 'NOVALUE', 'START_OFFSET_INTERVAL': 'NOVALUE', 'PRE_FILTER_TYPE': 'NOVALUE', 'DIMENSION': u'Acceleration', 'DATA_STATUS': 'ok', 'DATA_SOURCE': 'simulation', 'NUMBER_OF_SAMPLES': '1021', 'COMMENTS': u'E2 Dummy Head Acceleration', 'TRANSDUCER_TYPE': 'NOVALUE', 'UNIT': 'g', 'CUT_OFF_FREQUENCY': 'NOVALUE', \n",
    "        'CUSTOMER_CHANNEL_CODE': 'Träger 4 rechts'.decode(\"utf8\"), 'CHANNEL_CODE': '11HEAD0000E2ACX0'}"
   ]
  },
  {
   "cell_type": "code",
   "execution_count": 30,
   "metadata": {},
   "outputs": [
    {
     "data": {
      "text/plain": [
       "u'Test object number          :1\\nName of the channel         :x-acceleration $head\\nLaboratory channel code     :11HEAD0000E2ACX0\\nCustomer channel code       :Tr\\xe4ger 4 rechts\\nChannel code                :11HEAD0000E2ACX0\\nComments                    :E2 Dummy Head Acceleration\\nLocation                    :Head\\nDirection                   :Longitudinal\\nDimension                   :Acceleration\\nChannel frequency class     :Unfiltered\\nUnit                        :g\\nReference system            :NOVALUE\\nTransducer type             :NOVALUE\\nPre-filter type             :NOVALUE\\nCut off frequency           :NOVALUE\\nChannel amplitude class     :NOVALUE\\nSampling interval           :0.0001\\nBit resolution              :NOVALUE\\nTime of first sample        :0\\nNumber of samples           :1021\\nReference channel           :NOVALUE\\nReference channel name      :NOVALUE\\nData source                 :simulation\\nData status                 :ok\\nFirst global maximum value  :NOVALUE\\nTime of maximum value       :NOVALUE\\nFirst global minimum value  :NOVALUE\\nTime of minimum value       :NOVALUE\\nStart offset interval       :NOVALUE\\nEnd offset interval         :NOVALUE\\n'"
      ]
     },
     "execution_count": 30,
     "metadata": {},
     "output_type": "execute_result"
    }
   ],
   "source": [
    "channeltemplate % para"
   ]
  },
  {
   "cell_type": "code",
   "execution_count": null,
   "metadata": {},
   "outputs": [],
   "source": []
  }
 ],
 "metadata": {
  "kernelspec": {
   "display_name": "sfem",
   "language": "python",
   "name": "sfem"
  },
  "language_info": {
   "codemirror_mode": {
    "name": "ipython",
    "version": 2
   },
   "file_extension": ".py",
   "mimetype": "text/x-python",
   "name": "python",
   "nbconvert_exporter": "python",
   "pygments_lexer": "ipython2",
   "version": "2.7.15"
  }
 },
 "nbformat": 4,
 "nbformat_minor": 2
}
